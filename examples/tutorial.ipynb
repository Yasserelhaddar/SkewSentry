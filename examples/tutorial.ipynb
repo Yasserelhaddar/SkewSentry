{
  "cells": [
    {
      "cell_type": "markdown",
      "metadata": {},
      "source": [
        "## SkewSentry Tutorial Notebook\n",
        "\n",
        "This notebook shows how to use SkewSentry to check training ↔ serving feature parity end-to-end using the programmatic API.\n",
        "\n",
        "What you'll do:\n",
        "- Create a small example dataset\n",
        "- Load a FeatureSpec from YAML\n",
        "- Use PythonFunctionAdapter for offline/online feature functions\n",
        "- Run the parity check and view text/HTML/JSON reports\n",
        "\n",
        "Prereqs:\n",
        "- You have this repo installed in editable mode (e.g., `uv pip install -e \".[dev]\"`).\n"
      ]
    },
    {
      "cell_type": "code",
      "execution_count": 1,
      "metadata": {},
      "outputs": [
        {
          "data": {
            "text/html": [
              "<div>\n",
              "<style scoped>\n",
              "    .dataframe tbody tr th:only-of-type {\n",
              "        vertical-align: middle;\n",
              "    }\n",
              "\n",
              "    .dataframe tbody tr th {\n",
              "        vertical-align: top;\n",
              "    }\n",
              "\n",
              "    .dataframe thead th {\n",
              "        text-align: right;\n",
              "    }\n",
              "</style>\n",
              "<table border=\"1\" class=\"dataframe\">\n",
              "  <thead>\n",
              "    <tr style=\"text-align: right;\">\n",
              "      <th></th>\n",
              "      <th>user_id</th>\n",
              "      <th>ts</th>\n",
              "      <th>price</th>\n",
              "      <th>qty</th>\n",
              "      <th>country</th>\n",
              "    </tr>\n",
              "  </thead>\n",
              "  <tbody>\n",
              "    <tr>\n",
              "      <th>0</th>\n",
              "      <td>1</td>\n",
              "      <td>2024-01-01</td>\n",
              "      <td>10</td>\n",
              "      <td>1</td>\n",
              "      <td>UK</td>\n",
              "    </tr>\n",
              "    <tr>\n",
              "      <th>1</th>\n",
              "      <td>1</td>\n",
              "      <td>2024-01-02</td>\n",
              "      <td>10</td>\n",
              "      <td>2</td>\n",
              "      <td>UK</td>\n",
              "    </tr>\n",
              "    <tr>\n",
              "      <th>2</th>\n",
              "      <td>2</td>\n",
              "      <td>2024-01-01</td>\n",
              "      <td>5</td>\n",
              "      <td>2</td>\n",
              "      <td>US</td>\n",
              "    </tr>\n",
              "    <tr>\n",
              "      <th>3</th>\n",
              "      <td>2</td>\n",
              "      <td>2024-01-03</td>\n",
              "      <td>5</td>\n",
              "      <td>2</td>\n",
              "      <td>US</td>\n",
              "    </tr>\n",
              "    <tr>\n",
              "      <th>4</th>\n",
              "      <td>3</td>\n",
              "      <td>2024-01-01</td>\n",
              "      <td>1</td>\n",
              "      <td>1</td>\n",
              "      <td>DE</td>\n",
              "    </tr>\n",
              "  </tbody>\n",
              "</table>\n",
              "</div>"
            ],
            "text/plain": [
              "   user_id         ts  price  qty country\n",
              "0        1 2024-01-01     10    1      UK\n",
              "1        1 2024-01-02     10    2      UK\n",
              "2        2 2024-01-01      5    2      US\n",
              "3        2 2024-01-03      5    2      US\n",
              "4        3 2024-01-01      1    1      DE"
            ]
          },
          "execution_count": 1,
          "metadata": {},
          "output_type": "execute_result"
        }
      ],
      "source": [
        "import pandas as pd\n",
        "\n",
        "from skewsentry.spec import FeatureSpec\n",
        "from skewsentry.adapters.python_func import PythonFunctionAdapter\n",
        "from skewsentry.runner import run_check\n",
        "\n",
        "OFFLINE = 'offline_features:build_features'\n",
        "ONLINE = 'online_features:get_features'\n",
        "\n",
        "# Create a tiny dataset\n",
        "import numpy as np\n",
        "np.random.seed(0)\n",
        "\n",
        "df = pd.DataFrame({\n",
        "    'user_id': [1,1,2,2,3,3,3],\n",
        "    'ts': pd.to_datetime(['2024-01-01','2024-01-02','2024-01-01','2024-01-03','2024-01-01','2024-01-02','2024-01-03']),\n",
        "    'price': [10, 10, 5, 5, 1, 1, 1],\n",
        "    'qty':   [ 1,  2, 2, 2, 1, 1, 1],\n",
        "    'country': ['UK','UK','US','US','DE','DE','DE'],\n",
        "})\n",
        "\n",
        "df.head()\n"
      ]
    },
    {
      "cell_type": "code",
      "execution_count": 2,
      "metadata": {},
      "outputs": [],
      "source": [
        "# Ensure correct paths regardless of current working directory\n",
        "from pathlib import Path\n",
        "import sys\n",
        "\n",
        "REPO = Path('/Users/yasserelhaddar/SkewSentry')\n",
        "SPEC_PATH = REPO / 'examples' / 'simple' / 'features.yml'\n",
        "ROOT = SPEC_PATH.parent  # examples/simple\n",
        "assert SPEC_PATH.exists(), f\"Missing spec file: {SPEC_PATH}\"\n",
        "\n",
        "# Make example modules importable\n",
        "if str(ROOT) not in sys.path:\n",
        "    sys.path.insert(0, str(ROOT))\n",
        "\n",
        "# Ensure artifacts directory exists for outputs\n",
        "( REPO / 'artifacts').mkdir(exist_ok=True)\n",
        "\n"
      ]
    },
    {
      "cell_type": "code",
      "execution_count": 3,
      "metadata": {},
      "outputs": [
        {
          "data": {
            "text/plain": [
              "(False, ['spend_7d'])"
            ]
          },
          "execution_count": 3,
          "metadata": {},
          "output_type": "execute_result"
        }
      ],
      "source": [
        "# Load the spec and adapters\n",
        "spec = FeatureSpec.from_yaml(str(SPEC_PATH))\n",
        "\n",
        "offline = PythonFunctionAdapter(OFFLINE)\n",
        "online = PythonFunctionAdapter(ONLINE)\n",
        "\n",
        "report = run_check(\n",
        "    spec=spec,\n",
        "    data=df,\n",
        "    offline=offline,\n",
        "    online=online,\n",
        "    sample=None,\n",
        "    html_out=str(REPO / 'artifacts' / 'parity_report.html'),\n",
        "    json_out=str(REPO / 'artifacts' / 'parity_report.json'),\n",
        ")\n",
        "\n",
        "report.ok, report.summary['failing_features']\n"
      ]
    },
    {
      "cell_type": "code",
      "execution_count": 4,
      "metadata": {},
      "outputs": [
        {
          "name": "stdout",
          "output_type": "stream",
          "text": [
            "OK: False\n",
            "Missing rows — offline: 0, online: 0\n",
            "Per-feature mismatch rates:\n",
            "  - spend_7d: mismatch_rate=1.0000 rows=7 mean_abs_diff=40.857142857142854\n",
            "  - country: mismatch_rate=0.0000 rows=7 mean_abs_diff=None\n",
            "    unknown: {'offline_unknown': [], 'online_unknown': []}\n",
            "HTML: /Users/yasserelhaddar/SkewSentry/artifacts/parity_report.html\n",
            "JSON: /Users/yasserelhaddar/SkewSentry/artifacts/parity_report.json\n"
          ]
        }
      ],
      "source": [
        "# View a concise text summary\n",
        "print(report.to_text())\n",
        "print('HTML:', str(REPO / 'artifacts' / 'parity_report.html'))\n",
        "print('JSON:', str(REPO / 'artifacts' / 'parity_report.json'))\n"
      ]
    },
    {
      "cell_type": "raw",
      "metadata": {
        "vscode": {
          "languageId": "raw"
        }
      },
      "source": [
        "### Bonus: Using a Hugging Face dataset\n",
        "\n",
        "Below, we load a small split of a public dataset using `datasets`, adapt it to our expected columns, and run the same parity check (still using the example offline/online functions). This shows how to plug in any external data source.\n"
      ]
    },
    {
      "cell_type": "markdown",
      "metadata": {},
      "source": [
        "### Artifacts\n",
        "\n",
        "- JSON: `artifacts/parity_report.json`\n",
        "- HTML: `artifacts/parity_report.html`\n",
        "\n",
        "Open the HTML in your browser to see a friendly report. If you run this in a CI pipeline, you can attach the HTML artifact to the PR.\n",
        "\n",
        "Tip: You can parameterize `sample` to run quickly on a subset for faster iteration.\n"
      ]
    },
    {
      "cell_type": "code",
      "execution_count": null,
      "metadata": {},
      "outputs": [],
      "source": []
    }
  ],
  "metadata": {
    "kernelspec": {
      "display_name": "Python (skewsentry)",
      "language": "python",
      "name": "skewsentry-venv"
    },
    "language_info": {
      "codemirror_mode": {
        "name": "ipython",
        "version": 3
      },
      "file_extension": ".py",
      "mimetype": "text/x-python",
      "name": "python",
      "nbconvert_exporter": "python",
      "pygments_lexer": "ipython3",
      "version": "3.12.0"
    }
  },
  "nbformat": 4,
  "nbformat_minor": 2
}
