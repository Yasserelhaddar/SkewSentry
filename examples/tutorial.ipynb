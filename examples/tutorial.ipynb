{
  "cells": [
    {
      "cell_type": "markdown",
      "metadata": {},
      "source": [
        "## SkewSentry Tutorial Notebook\n",
        "\n",
        "This notebook shows how to use SkewSentry to check training ↔ serving feature parity end-to-end using the programmatic API.\n",
        "\n",
        "What you'll do:\n",
        "- Create a small example dataset\n",
        "- Load a FeatureSpec from YAML\n",
        "- Use PythonFunctionAdapter for offline/online feature functions\n",
        "- Run the parity check and view text/HTML/JSON reports\n",
        "\n",
        "Prereqs:\n",
        "- You have this repo installed in editable mode (e.g., `uv pip install -e \".[dev]\"`).\n"
      ]
    },
    {
      "cell_type": "code",
      "execution_count": null,
      "metadata": {},
      "outputs": [
        {
          "data": {
            "text/html": [
              "<div>\n",
              "<style scoped>\n",
              "    .dataframe tbody tr th:only-of-type {\n",
              "        vertical-align: middle;\n",
              "    }\n",
              "\n",
              "    .dataframe tbody tr th {\n",
              "        vertical-align: top;\n",
              "    }\n",
              "\n",
              "    .dataframe thead th {\n",
              "        text-align: right;\n",
              "    }\n",
              "</style>\n",
              "<table border=\"1\" class=\"dataframe\">\n",
              "  <thead>\n",
              "    <tr style=\"text-align: right;\">\n",
              "      <th></th>\n",
              "      <th>user_id</th>\n",
              "      <th>ts</th>\n",
              "      <th>price</th>\n",
              "      <th>qty</th>\n",
              "      <th>country</th>\n",
              "    </tr>\n",
              "  </thead>\n",
              "  <tbody>\n",
              "    <tr>\n",
              "      <th>0</th>\n",
              "      <td>1</td>\n",
              "      <td>2024-01-01</td>\n",
              "      <td>10</td>\n",
              "      <td>1</td>\n",
              "      <td>UK</td>\n",
              "    </tr>\n",
              "    <tr>\n",
              "      <th>1</th>\n",
              "      <td>1</td>\n",
              "      <td>2024-01-02</td>\n",
              "      <td>10</td>\n",
              "      <td>2</td>\n",
              "      <td>UK</td>\n",
              "    </tr>\n",
              "    <tr>\n",
              "      <th>2</th>\n",
              "      <td>2</td>\n",
              "      <td>2024-01-01</td>\n",
              "      <td>5</td>\n",
              "      <td>2</td>\n",
              "      <td>US</td>\n",
              "    </tr>\n",
              "    <tr>\n",
              "      <th>3</th>\n",
              "      <td>2</td>\n",
              "      <td>2024-01-03</td>\n",
              "      <td>5</td>\n",
              "      <td>2</td>\n",
              "      <td>US</td>\n",
              "    </tr>\n",
              "    <tr>\n",
              "      <th>4</th>\n",
              "      <td>3</td>\n",
              "      <td>2024-01-01</td>\n",
              "      <td>1</td>\n",
              "      <td>1</td>\n",
              "      <td>DE</td>\n",
              "    </tr>\n",
              "  </tbody>\n",
              "</table>\n",
              "</div>"
            ],
            "text/plain": [
              "   user_id         ts  price  qty country\n",
              "0        1 2024-01-01     10    1      UK\n",
              "1        1 2024-01-02     10    2      UK\n",
              "2        2 2024-01-01      5    2      US\n",
              "3        2 2024-01-03      5    2      US\n",
              "4        3 2024-01-01      1    1      DE"
            ]
          },
          "execution_count": 1,
          "metadata": {},
          "output_type": "execute_result"
        }
      ],
      "source": [
        "import pandas as pd\n",
        "\n",
        "from skewsentry.spec import FeatureSpec\n",
        "from skewsentry.adapters.python_func import PythonFunctionAdapter\n",
        "from skewsentry.runner import run_check\n",
        "\n",
        "OFFLINE = 'offline_features:build_features'\n",
        "ONLINE = 'online_features:get_features'\n",
        "\n",
        "# Create a tiny dataset\n",
        "import numpy as np\n",
        "np.random.seed(0)\n",
        "\n",
        "df = pd.DataFrame({\n",
        "    'user_id': [1,1,2,2,3,3,3],\n",
        "    'ts': pd.to_datetime(['2024-01-01','2024-01-02','2024-01-01','2024-01-03','2024-01-01','2024-01-02','2024-01-03']),\n",
        "    'price': [10, 10, 5, 5, 1, 1, 1],\n",
        "    'qty':   [ 1,  2, 2, 2, 1, 1, 1],\n",
        "    'country': ['UK','UK','US','US','DE','DE','DE'],\n",
        "})\n",
        "\n",
        "df.head()\n"
      ]
    },
    {
      "cell_type": "code",
      "execution_count": null,
      "metadata": {},
      "outputs": [],
      "source": [
        "# Ensure correct paths regardless of current working directory\n",
        "from pathlib import Path\n",
        "import sys\n",
        "\n",
        "REPO = Path('/Users/yasserelhaddar/SkewSentry')\n",
        "SPEC_PATH = REPO / 'examples' / 'simple' / 'features.yml'\n",
        "ROOT = SPEC_PATH.parent  # examples/simple\n",
        "assert SPEC_PATH.exists(), f\"Missing spec file: {SPEC_PATH}\"\n",
        "\n",
        "# Make example modules importable\n",
        "if str(ROOT) not in sys.path:\n",
        "    sys.path.insert(0, str(ROOT))\n",
        "\n",
        "# Ensure artifacts directory exists for outputs\n",
        "( REPO / 'artifacts').mkdir(exist_ok=True)\n",
        "\n"
      ]
    },
    {
      "cell_type": "code",
      "execution_count": null,
      "metadata": {},
      "outputs": [
        {
          "ename": "FileNotFoundError",
          "evalue": "[Errno 2] No such file or directory: 'examples/simple/features.yml'",
          "output_type": "error",
          "traceback": [
            "\u001b[31m---------------------------------------------------------------------------\u001b[39m",
            "\u001b[31mFileNotFoundError\u001b[39m                         Traceback (most recent call last)",
            "\u001b[36mCell\u001b[39m\u001b[36m \u001b[39m\u001b[32mIn[2]\u001b[39m\u001b[32m, line 2\u001b[39m\n\u001b[32m      1\u001b[39m \u001b[38;5;66;03m# Load the spec and adapters\u001b[39;00m\n\u001b[32m----> \u001b[39m\u001b[32m2\u001b[39m spec = \u001b[43mFeatureSpec\u001b[49m\u001b[43m.\u001b[49m\u001b[43mfrom_yaml\u001b[49m\u001b[43m(\u001b[49m\u001b[38;5;28;43mstr\u001b[39;49m\u001b[43m(\u001b[49m\u001b[43mSPEC_PATH\u001b[49m\u001b[43m)\u001b[49m\u001b[43m)\u001b[49m\n\u001b[32m      4\u001b[39m \u001b[38;5;66;03m# Make example modules importable in the notebook session\u001b[39;00m\n\u001b[32m      5\u001b[39m \u001b[38;5;28;01mimport\u001b[39;00m\u001b[38;5;250m \u001b[39m\u001b[34;01msys\u001b[39;00m\n",
            "\u001b[36mFile \u001b[39m\u001b[32m~/SkewSentry/skewsentry/spec.py:117\u001b[39m, in \u001b[36mFeatureSpec.from_yaml\u001b[39m\u001b[34m(cls, path)\u001b[39m\n\u001b[32m    115\u001b[39m \u001b[38;5;129m@classmethod\u001b[39m\n\u001b[32m    116\u001b[39m \u001b[38;5;28;01mdef\u001b[39;00m\u001b[38;5;250m \u001b[39m\u001b[34mfrom_yaml\u001b[39m(\u001b[38;5;28mcls\u001b[39m, path: \u001b[38;5;28mstr\u001b[39m) -> \u001b[33m\"\u001b[39m\u001b[33mFeatureSpec\u001b[39m\u001b[33m\"\u001b[39m:\n\u001b[32m--> \u001b[39m\u001b[32m117\u001b[39m     \u001b[38;5;28;01mwith\u001b[39;00m \u001b[38;5;28;43mopen\u001b[39;49m\u001b[43m(\u001b[49m\u001b[43mpath\u001b[49m\u001b[43m,\u001b[49m\u001b[43m \u001b[49m\u001b[33;43m\"\u001b[39;49m\u001b[33;43mr\u001b[39;49m\u001b[33;43m\"\u001b[39;49m\u001b[43m,\u001b[49m\u001b[43m \u001b[49m\u001b[43mencoding\u001b[49m\u001b[43m=\u001b[49m\u001b[33;43m\"\u001b[39;49m\u001b[33;43mutf-8\u001b[39;49m\u001b[33;43m\"\u001b[39;49m\u001b[43m)\u001b[49m \u001b[38;5;28;01mas\u001b[39;00m f:\n\u001b[32m    118\u001b[39m         data = yaml.safe_load(f) \u001b[38;5;129;01mor\u001b[39;00m {}\n\u001b[32m    119\u001b[39m     \u001b[38;5;66;03m# Normalize tolerance key names for pydantic aliases\u001b[39;00m\n",
            "\u001b[31mFileNotFoundError\u001b[39m: [Errno 2] No such file or directory: 'examples/simple/features.yml'"
          ]
        }
      ],
      "source": [
        "# Load the spec and adapters\n",
        "spec = FeatureSpec.from_yaml(str(SPEC_PATH))\n",
        "\n",
        "offline = PythonFunctionAdapter(OFFLINE)\n",
        "online = PythonFunctionAdapter(ONLINE)\n",
        "\n",
        "report = run_check(\n",
        "    spec=spec,\n",
        "    data=df,\n",
        "    offline=offline,\n",
        "    online=online,\n",
        "    sample=None,\n",
        "    html_out=str(REPO / 'artifacts' / 'parity_report.html'),\n",
        "    json_out=str(REPO / 'artifacts' / 'parity_report.json'),\n",
        ")\n",
        "\n",
        "report.ok, report.summary['failing_features']\n"
      ]
    },
    {
      "cell_type": "code",
      "execution_count": null,
      "metadata": {},
      "outputs": [],
      "source": [
        "# View a concise text summary\n",
        "print(report.to_text())\n",
        "print('HTML:', str(REPO / 'artifacts' / 'parity_report.html'))\n",
        "print('JSON:', str(REPO / 'artifacts' / 'parity_report.json'))\n"
      ]
    },
    {
      "cell_type": "markdown",
      "metadata": {},
      "source": [
        "### Artifacts\n",
        "\n",
        "- JSON: `artifacts/parity_report.json`\n",
        "- HTML: `artifacts/parity_report.html`\n",
        "\n",
        "Open the HTML in your browser to see a friendly report. If you run this in a CI pipeline, you can attach the HTML artifact to the PR.\n",
        "\n",
        "Tip: You can parameterize `sample` to run quickly on a subset for faster iteration.\n"
      ]
    },
    {
      "cell_type": "code",
      "execution_count": null,
      "metadata": {},
      "outputs": [],
      "source": []
    }
  ],
  "metadata": {
    "kernelspec": {
      "display_name": "Python (skewsentry)",
      "language": "python",
      "name": "skewsentry-venv"
    },
    "language_info": {
      "codemirror_mode": {
        "name": "ipython",
        "version": 3
      },
      "file_extension": ".py",
      "mimetype": "text/x-python",
      "name": "python",
      "nbconvert_exporter": "python",
      "pygments_lexer": "ipython3",
      "version": "3.12.0"
    }
  },
  "nbformat": 4,
  "nbformat_minor": 2
}
