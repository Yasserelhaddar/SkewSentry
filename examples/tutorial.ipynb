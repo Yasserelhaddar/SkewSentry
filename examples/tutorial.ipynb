{
  "cells": [
    {
      "cell_type": "markdown",
      "metadata": {},
      "source": [
        "## SkewSentry Tutorial Notebook\n",
        "\n",
        "This notebook shows how to use SkewSentry to check training ↔ serving feature parity end-to-end using the programmatic API.\n",
        "\n",
        "What you'll do:\n",
        "- Create a small example dataset\n",
        "- Load a FeatureSpec from YAML\n",
        "- Use PythonFunctionAdapter for offline/online feature functions\n",
        "- Run the parity check and view text/HTML/JSON reports\n",
        "\n",
        "Prereqs:\n",
        "- You have this repo installed in editable mode (e.g., `uv pip install -e \".[dev]\"`).\n"
      ]
    },
    {
      "cell_type": "code",
      "execution_count": null,
      "metadata": {},
      "outputs": [],
      "source": [
        "import pandas as pd\n",
        "from pathlib import Path\n",
        "\n",
        "from skewsentry.spec import FeatureSpec\n",
        "from skewsentry.adapters.python_func import PythonFunctionAdapter\n",
        "from skewsentry.runner import run_check\n",
        "\n",
        "# Paths\n",
        "ROOT = Path('examples/simple')\n",
        "SPEC_PATH = ROOT / 'features.yml'\n",
        "OFFLINE = 'offline_features:build_features'\n",
        "ONLINE = 'online_features:get_features'\n",
        "\n",
        "# Create a tiny dataset\n",
        "import numpy as np\n",
        "np.random.seed(0)\n",
        "\n",
        "df = pd.DataFrame({\n",
        "    'user_id': [1,1,2,2,3,3,3],\n",
        "    'ts': pd.to_datetime(['2024-01-01','2024-01-02','2024-01-01','2024-01-03','2024-01-01','2024-01-02','2024-01-03']),\n",
        "    'price': [10, 10, 5, 5, 1, 1, 1],\n",
        "    'qty':   [ 1,  2, 2, 2, 1, 1, 1],\n",
        "    'country': ['UK','UK','US','US','DE','DE','DE'],\n",
        "})\n",
        "\n",
        "df.head()\n"
      ]
    },
    {
      "cell_type": "code",
      "execution_count": null,
      "metadata": {},
      "outputs": [],
      "source": [
        "# Load the spec and adapters\n",
        "spec = FeatureSpec.from_yaml(str(SPEC_PATH))\n",
        "\n",
        "# Make example modules importable in the notebook session\n",
        "import sys\n",
        "sys.path.insert(0, str(ROOT))\n",
        "\n",
        "offline = PythonFunctionAdapter(OFFLINE)\n",
        "online = PythonFunctionAdapter(ONLINE)\n",
        "\n",
        "report = run_check(\n",
        "    spec=spec,\n",
        "    data=df,\n",
        "    offline=offline,\n",
        "    online=online,\n",
        "    sample=None,\n",
        "    html_out='artifacts/parity_report.html',\n",
        "    json_out='artifacts/parity_report.json',\n",
        ")\n",
        "\n",
        "report.ok, report.summary['failing_features']\n"
      ]
    },
    {
      "cell_type": "code",
      "execution_count": null,
      "metadata": {},
      "outputs": [],
      "source": [
        "# View a concise text summary\n",
        "print(report.to_text())\n"
      ]
    },
    {
      "cell_type": "raw",
      "metadata": {
        "vscode": {
          "languageId": "raw"
        }
      },
      "source": [
        "### Artifacts\n",
        "\n",
        "- JSON: `artifacts/parity_report.json`\n",
        "- HTML: `artifacts/parity_report.html`\n",
        "\n",
        "Open the HTML in your browser to see a friendly report. If you run this in a CI pipeline, you can attach the HTML artifact to the PR.\n",
        "\n",
        "Tip: You can parameterize `sample` to run quickly on a subset for faster iteration.\n"
      ]
    },
    {
      "cell_type": "code",
      "execution_count": null,
      "metadata": {},
      "outputs": [],
      "source": []
    }
  ],
  "metadata": {
    "language_info": {
      "name": "python"
    }
  },
  "nbformat": 4,
  "nbformat_minor": 2
}
